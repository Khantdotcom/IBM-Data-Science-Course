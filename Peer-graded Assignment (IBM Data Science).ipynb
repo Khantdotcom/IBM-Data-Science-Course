{
 "cells": [
  {
   "cell_type": "markdown",
   "id": "652602bd",
   "metadata": {},
   "source": [
    "# Peer-graded Assignment (Exercise 2)"
   ]
  },
  {
   "cell_type": "markdown",
   "id": "0b8ad96f",
   "metadata": {},
   "source": [
    "### Introduction (Exercise 3)\n",
    "Welcome to my data science notebook! In this notebook, we will explore various data science concepts and tools.\n"
   ]
  },
  {
   "cell_type": "markdown",
   "id": "499da5bb",
   "metadata": {},
   "source": [
    "### Data Science Languages (Exercise 4)\n",
    "- Python\n",
    "- R\n",
    "- SQL\n"
   ]
  },
  {
   "cell_type": "markdown",
   "id": "b6f08e37",
   "metadata": {},
   "source": [
    "### Data Science Libraries (Exercise 5)\n",
    "- NumPy\n",
    "- Pandas\n",
    "- Matplotlib\n",
    "- Seaborn\n",
    "- Scikit-learn\n"
   ]
  },
  {
   "cell_type": "markdown",
   "id": "00d312f6",
   "metadata": {},
   "source": [
    "### Data Science Tools (Exercise 6)\n",
    "| Tool              | Purpose                   |\n",
    "|-------------------|---------------------------|\n",
    "| Jupyter Notebook  | Interactive computing     |\n",
    "| TensorFlow        | Machine learning library  |\n",
    "| Keras             | High-level neural networks|\n",
    "| Tableau           | Data visualization        |\n",
    "| SQL               | Database querying         |\n"
   ]
  },
  {
   "cell_type": "markdown",
   "id": "11aedf02",
   "metadata": {},
   "source": [
    "### Arithmetic Expression Examples (Exercise 7)\n",
    "Let's explore some basic arithmetic expressions using Python.\n"
   ]
  },
  {
   "cell_type": "code",
   "execution_count": 4,
   "id": "8e3fe442",
   "metadata": {},
   "outputs": [
    {
     "data": {
      "text/plain": [
       "(35, 20)"
      ]
     },
     "execution_count": 4,
     "metadata": {},
     "output_type": "execute_result"
    }
   ],
   "source": [
    "# Multiplication (Exercise 8)\n",
    "result_multiply = 5 * 7\n",
    "\n",
    "# Addition\n",
    "result_addition = 12 + 8\n",
    "\n",
    "result_multiply, result_addition\n"
   ]
  },
  {
   "cell_type": "code",
   "execution_count": 5,
   "id": "f0a4ae74",
   "metadata": {},
   "outputs": [
    {
     "data": {
      "text/plain": [
       "2.0"
      ]
     },
     "execution_count": 5,
     "metadata": {},
     "output_type": "execute_result"
    }
   ],
   "source": [
    "# Conversion of minutes to hours (Exercise 9)\n",
    "minutes = 120\n",
    "hours = minutes / 60\n",
    "\n",
    "hours\n"
   ]
  },
  {
   "cell_type": "markdown",
   "id": "2e4a2116",
   "metadata": {},
   "source": [
    "### Objectives (Exercise 10)\n",
    "1. Explore data science languages and libraries.\n",
    "2. Understand basic arithmetic expressions in Python.\n",
    "3. Perform simple calculations and conversions.\n"
   ]
  },
  {
   "cell_type": "markdown",
   "id": "989dfbb7",
   "metadata": {},
   "source": [
    "### Author\n",
    "Khant Htay@2024\n"
   ]
  }
 ],
 "metadata": {
  "kernelspec": {
   "display_name": "Python 3 (ipykernel)",
   "language": "python",
   "name": "python3"
  },
  "language_info": {
   "codemirror_mode": {
    "name": "ipython",
    "version": 3
   },
   "file_extension": ".py",
   "mimetype": "text/x-python",
   "name": "python",
   "nbconvert_exporter": "python",
   "pygments_lexer": "ipython3",
   "version": "3.9.13"
  }
 },
 "nbformat": 4,
 "nbformat_minor": 5
}
